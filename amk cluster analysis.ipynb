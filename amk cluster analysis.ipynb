{
 "cells": [
  {
   "cell_type": "code",
   "execution_count": 30,
   "metadata": {},
   "outputs": [],
   "source": [
    "from google.cloud import bigquery\n",
    "import os\n",
    "import pandas\n",
    "from pandas.io import gbq\n",
    "\n",
    "\n",
    "projectID = 'andrewtest-208508'\n",
    "\n",
    "query_mod = 'SELECT * FROM z_andrew_sandbox.q_mods_i'\n",
    "query_checkins = 'SELECT * FROM z_andrew_sandbox.q_checkins_aggregate2'\n",
    "query_education = 'SELECT * FROM z_andrew_sandbox.q_education_aggregate2'\n",
    "query_work= 'SELECT * FROM z_andrew_sandbox.q_work_aggregate2'\n",
    "query_profiles= 'SELECT * FROM z_andrew_sandbox.q_profiles_aggregate'\n",
    "\n",
    "mod_df = pandas.read_gbq(query=query_mod, project_id= projectID)\n",
    "checkins_df = pandas.read_gbq(query=query_checkins, project_id= projectID)\n",
    "edu_df = pandas.read_gbq(query=query_education, project_id= projectID)\n",
    "work_df = pandas.read_gbq(query=query_work, project_id= projectID)\n",
    "prof_df = pandas.read_gbq(query=query_profiles, project_id= projectID)\n"
   ]
  },
  {
   "cell_type": "code",
   "execution_count": 2,
   "metadata": {},
   "outputs": [],
   "source": [
    "cluster_values = mod_df['modularity_class'].unique() #list of all cluster values\n",
    "\n",
    "\n",
    "#map cluster value(key) to cid_h dataframe(value) in mod_dict\n",
    "mod_dict = dict() \n",
    "\n",
    "for cl in cluster_values:\n",
    "    mod_dict[cl] = mod_df[mod_df.modularity_class==cl]\n",
    "    \n",
    "\n",
    "    \n"
   ]
  },
  {
   "cell_type": "code",
   "execution_count": 40,
   "metadata": {},
   "outputs": [],
   "source": [
    "from collections import Counter\n",
    "\n",
    "def getMostCommon(mod_class, category, df, n=1):\n",
    "    \"\"\"prints list of top n most common responses for a given mod class and category\"\"\"\n",
    "    if mod_class not in cluster_values:\n",
    "        raise ValueError('{} is not a valid modularity class'.format(int))\n",
    "    df.list = [checkins_df,edu_df,work_df,prof_df]\n",
    "    #if df not in df.list:\n",
    "        #raise ValueError('{} is not a valid dataframe'.format(str))\n",
    "    if (category not in df.columns):\n",
    "        raise ValueError('{} is not a valid category in specified dataframe'.format(str))\n",
    "    tracker = Counter()\n",
    "    for ind,cl,cid in mod_dict[mod_class]:\n",
    "        if cid in df['cid_h']:\n",
    "            #get the category value out of the df for specified cid_h\n",
    "            temp = df[df['cid_h']==cid]\n",
    "            for item in temp[category]:\n",
    "                if item not in tracker:\n",
    "                    tracker[item]=1\n",
    "                else:\n",
    "                    tracker[item] += 1\n",
    "    print(tracker.most_common(n))\n",
    "            \n",
    "        \n",
    "    \n",
    "    \n",
    "    "
   ]
  },
  {
   "cell_type": "code",
   "execution_count": 42,
   "metadata": {},
   "outputs": [
    {
     "ename": "ValueError",
     "evalue": "too many values to unpack (expected 3)",
     "output_type": "error",
     "traceback": [
      "\u001b[0;31m---------------------------------------------------------------------------\u001b[0m",
      "\u001b[0;31mValueError\u001b[0m                                Traceback (most recent call last)",
      "\u001b[0;32m<ipython-input-42-0f3ec5f0f230>\u001b[0m in \u001b[0;36m<module>\u001b[0;34m()\u001b[0m\n\u001b[0;32m----> 1\u001b[0;31m \u001b[0mgetMostCommon\u001b[0m\u001b[0;34m(\u001b[0m\u001b[0;36m0\u001b[0m\u001b[0;34m,\u001b[0m\u001b[0;34m'gender'\u001b[0m\u001b[0;34m,\u001b[0m\u001b[0mwork_df\u001b[0m\u001b[0;34m,\u001b[0m\u001b[0mn\u001b[0m\u001b[0;34m=\u001b[0m\u001b[0;36m10\u001b[0m\u001b[0;34m)\u001b[0m\u001b[0;34m\u001b[0m\u001b[0m\n\u001b[0m",
      "\u001b[0;32m<ipython-input-40-bb6b0e6cff14>\u001b[0m in \u001b[0;36mgetMostCommon\u001b[0;34m(mod_class, category, df, n)\u001b[0m\n\u001b[1;32m     11\u001b[0m         \u001b[0;32mraise\u001b[0m \u001b[0mValueError\u001b[0m\u001b[0;34m(\u001b[0m\u001b[0;34m'{} is not a valid category in specified dataframe'\u001b[0m\u001b[0;34m.\u001b[0m\u001b[0mformat\u001b[0m\u001b[0;34m(\u001b[0m\u001b[0mstr\u001b[0m\u001b[0;34m)\u001b[0m\u001b[0;34m)\u001b[0m\u001b[0;34m\u001b[0m\u001b[0m\n\u001b[1;32m     12\u001b[0m     \u001b[0mtracker\u001b[0m \u001b[0;34m=\u001b[0m \u001b[0mCounter\u001b[0m\u001b[0;34m(\u001b[0m\u001b[0;34m)\u001b[0m\u001b[0;34m\u001b[0m\u001b[0m\n\u001b[0;32m---> 13\u001b[0;31m     \u001b[0;32mfor\u001b[0m \u001b[0mind\u001b[0m\u001b[0;34m,\u001b[0m\u001b[0mcl\u001b[0m\u001b[0;34m,\u001b[0m\u001b[0mcid\u001b[0m \u001b[0;32min\u001b[0m \u001b[0mmod_dict\u001b[0m\u001b[0;34m[\u001b[0m\u001b[0mmod_class\u001b[0m\u001b[0;34m]\u001b[0m\u001b[0;34m:\u001b[0m\u001b[0;34m\u001b[0m\u001b[0m\n\u001b[0m\u001b[1;32m     14\u001b[0m         \u001b[0;32mif\u001b[0m \u001b[0mcid\u001b[0m \u001b[0;32min\u001b[0m \u001b[0mdf\u001b[0m\u001b[0;34m[\u001b[0m\u001b[0;34m'cid_h'\u001b[0m\u001b[0;34m]\u001b[0m\u001b[0;34m:\u001b[0m\u001b[0;34m\u001b[0m\u001b[0m\n\u001b[1;32m     15\u001b[0m             \u001b[0;31m#get the category value out of the df for specified cid_h\u001b[0m\u001b[0;34m\u001b[0m\u001b[0;34m\u001b[0m\u001b[0m\n",
      "\u001b[0;31mValueError\u001b[0m: too many values to unpack (expected 3)"
     ]
    }
   ],
   "source": [
    "getMostCommon(0,'gender',work_df,n=10)"
   ]
  },
  {
   "cell_type": "code",
   "execution_count": 43,
   "metadata": {},
   "outputs": [
    {
     "name": "stdout",
     "output_type": "stream",
     "text": [
      "cid_h\n",
      "modularity_class\n"
     ]
    }
   ],
   "source": [
    "for ent in mod_dict[0]:\n",
    "    print(ent)"
   ]
  },
  {
   "cell_type": "code",
   "execution_count": null,
   "metadata": {},
   "outputs": [],
   "source": []
  }
 ],
 "metadata": {
  "kernelspec": {
   "display_name": "Python 3",
   "language": "python",
   "name": "python3"
  },
  "language_info": {
   "codemirror_mode": {
    "name": "ipython",
    "version": 3
   },
   "file_extension": ".py",
   "mimetype": "text/x-python",
   "name": "python",
   "nbconvert_exporter": "python",
   "pygments_lexer": "ipython3",
   "version": "3.6.5"
  }
 },
 "nbformat": 4,
 "nbformat_minor": 2
}
